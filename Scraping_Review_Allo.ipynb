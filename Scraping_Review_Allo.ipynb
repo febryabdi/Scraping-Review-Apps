{
    "metadata": {
        "kernelspec": {
            "name": "python3",
            "display_name": "Python 3",
            "language": "python"
        },
        "language_info": {
            "name": "python",
            "version": "3.8.10",
            "mimetype": "text/x-python",
            "codemirror_mode": {
                "name": "ipython",
                "version": 3
            },
            "pygments_lexer": "ipython3",
            "nbconvert_exporter": "python",
            "file_extension": ".py"
        }
    },
    "nbformat_minor": 2,
    "nbformat": 4,
    "cells": [
        {
            "cell_type": "code",
            "source": [
                "from google_play_scraper import app, Sort, reviews_all\r\n",
                "from app_store_scraper import AppStore\r\n",
                "import pandas as pd\r\n",
                "import numpy as np\r\n",
                "import json, os, uuid"
            ],
            "metadata": {
                "azdata_cell_guid": "8900aede-257b-4ada-b29f-bd339c23acce",
                "language": "python"
            },
            "outputs": [],
            "execution_count": 1
        },
        {
            "cell_type": "code",
            "source": [
                "g_reviews = reviews_all(\r\n",
                "                'com.alloapp.yump',\r\n",
                "                sleep_milliseconds=0, # default ke 0\r\n",
                "                lang='id', # default ke 'en'\r\n",
                "                country='id', # default ke 'us'\r\n",
                "                sort=Sort.NEWEST, # default ke Sort.MOST_RELEVANT,\r\n",
                "                )\r\n",
                "a_reviews = AppStore('id', 'allo-bank', '1591223632')\r\n",
                "a_reviews.review()"
            ],
            "metadata": {
                "language": "python",
                "azdata_cell_guid": "47536efc-e7f5-4a6a-befc-9b5d4c1f6589"
            },
            "outputs": [
                {
                    "name": "stderr",
                    "text": "2023-10-04 23:32:26,123 [INFO] Base - Initialised: AppStore('id', 'allo-bank', 1591223632)\n",
                    "output_type": "stream"
                },
                {
                    "name": "stderr",
                    "text": "2023-10-04 23:32:26,124 [INFO] Base - Ready to fetch reviews from: https://apps.apple.com/id/app/allo-bank/id1591223632\n",
                    "output_type": "stream"
                },
                {
                    "name": "stderr",
                    "text": "2023-10-04 23:32:31,266 [INFO] Base - [id:1591223632] Fetched 340 reviews (340 fetched in total)\n",
                    "output_type": "stream"
                },
                {
                    "name": "stderr",
                    "text": "2023-10-04 23:32:36,818 [INFO] Base - [id:1591223632] Fetched 700 reviews (700 fetched in total)\n",
                    "output_type": "stream"
                },
                {
                    "name": "stderr",
                    "text": "2023-10-04 23:32:40,494 [INFO] Base - [id:1591223632] Fetched 937 reviews (937 fetched in total)\n",
                    "output_type": "stream"
                }
            ],
            "execution_count": 3
        },
        {
            "cell_type": "code",
            "source": [
                "g_df = pd.DataFrame(np.array(g_reviews),columns=['review'])\r\n",
                "g_df2 = g_df.join(pd.DataFrame(g_df.pop('review').tolist()))\r\n",
                "\r\n",
                "g_df2.drop(columns={'userImage', 'reviewCreatedVersion'},inplace=True)\r\n",
                "g_df2.rename(columns= {'score': 'rating','userName': 'user_name', 'reviewId': 'review_id', 'content': 'review_description', 'at': 'review_date', 'replyContent' : 'developer_response', 'repliedAt': 'developer_response_date', 'thumbsUpCount': 'thumbs_up'},inplace = True)\r\n",
                "g_df2.insert(loc=0, column='source', value='Google Play')\r\n",
                "g_df2.insert(loc=3, column='review_title', value=None)\r\n",
                "g_df2['language_code'] = 'id'\r\n",
                "g_df2['country_code'] = 'id'\r\n",
                "g_df2"
            ],
            "metadata": {
                "language": "python",
                "azdata_cell_guid": "f95d3123-2059-4f89-83d7-43049f7eef00"
            },
            "outputs": [
                {
                    "data": {
                        "text/plain": "            source                             review_id  \\\n0      Google Play  e3479dac-a89d-468d-8135-52730cb53069   \n1      Google Play  81ec20d7-690e-45d8-bce0-72019e699388   \n2      Google Play  8016e000-774f-4f16-a48b-36e043510f58   \n3      Google Play  4d83d245-cce6-429c-b700-9d13472f728d   \n4      Google Play  344210e1-f47c-4dc6-8a07-85d3e970b9c0   \n...            ...                                   ...   \n14475  Google Play  7d793cd6-2443-4657-a6bb-c003598277d1   \n14476  Google Play  462927be-fa65-4f4d-bcde-d8565764ad24   \n14477  Google Play  1753ecb1-1e1b-4f7d-91ef-4a04bf7e8fec   \n14478  Google Play  d79bb045-d116-4242-9932-a6baf9fbdf72   \n14479  Google Play  c661febd-2880-4b72-87e5-5ae99d6b9d22   \n\n                   user_name review_title  \\\n0                     Jr Shr         None   \n1             Oky Simatupang         None   \n2               Darmili Anto         None   \n3               Sanwy Gaming         None   \n4                 Anita Nita         None   \n...                      ...          ...   \n14475        Hilman Kusmawan         None   \n14476            Baiq Dinara         None   \n14477  Clara Quinzia Asheeqa         None   \n14478               Agam Tea         None   \n14479    Bandilah Salmiyatun         None   \n\n                                      review_description  rating  thumbs_up  \\\n0                      Parah...mahal..mending pakai dana       1          0   \n1           Sudah lancar transaksinya. Makasih AlloBank.       5          0   \n2      Allo bank biawak ini. Maudaftar, setelah mengi...       1          0   \n3      Aplikasi ampas dari awal aplikasi ini ada samp...       1          0   \n4      beli plsa lampu tpi gak ada no token nya ,, tp...       1          0   \n...                                                  ...     ...        ...   \n14475  Aplikasi nya sangat simple penggunaan nya dan ...       5         37   \n14476  Akun dibekukan tanpa alasan, daftarin keluarga...       1          9   \n14477  Aplikasi gagal daptar dari belum ada di playst...       1          8   \n14478  masih belum bisa log in juga hadeuh... hampir ...       1         14   \n14479                 Udah daftar malah ngga bisa dibuka       1          6   \n\n              review_date                                 developer_response  \\\n0     2023-10-03 22:13:06                                               None   \n1     2023-10-03 22:08:53                                               None   \n2     2023-10-03 22:07:44                                               None   \n3     2023-10-03 21:28:53                                               None   \n4     2023-10-03 18:05:43                                               None   \n...                   ...                                                ...   \n14475 2022-03-18 08:05:54  Hai Sahabat Allo, Terima kasih sudah menggunak...   \n14476 2022-03-18 08:02:20  Hai Sahabat Allo, mohon maaf atas kendala yang...   \n14477 2022-03-18 06:57:11  Hai Sahabat Allo, mohon maaf atas kendala yang...   \n14478 2022-03-18 06:33:37  Hai Sahabat Allo, mohon maaf atas kendala yang...   \n14479 2022-03-18 06:07:35  Hai Sahabat Allo, mohon maaf atas kendala yang...   \n\n      developer_response_date appVersion language_code country_code  \n0                         NaT       None            id           id  \n1                         NaT   1.3.9.35            id           id  \n2                         NaT   1.3.9.35            id           id  \n3                         NaT   1.3.9.35            id           id  \n4                         NaT   1.3.9.35            id           id  \n...                       ...        ...           ...          ...  \n14475     2022-04-06 13:44:49   1.3.6.21            id           id  \n14476     2022-04-06 11:27:01   1.3.6.21            id           id  \n14477     2022-04-20 10:49:43   1.3.6.21            id           id  \n14478     2022-04-06 11:04:58   1.3.6.21            id           id  \n14479     2022-04-06 11:45:51   1.3.6.21            id           id  \n\n[14480 rows x 13 columns]",
                        "text/html": "<div>\n<style scoped>\n    .dataframe tbody tr th:only-of-type {\n        vertical-align: middle;\n    }\n\n    .dataframe tbody tr th {\n        vertical-align: top;\n    }\n\n    .dataframe thead th {\n        text-align: right;\n    }\n</style>\n<table border=\"1\" class=\"dataframe\">\n  <thead>\n    <tr style=\"text-align: right;\">\n      <th></th>\n      <th>source</th>\n      <th>review_id</th>\n      <th>user_name</th>\n      <th>review_title</th>\n      <th>review_description</th>\n      <th>rating</th>\n      <th>thumbs_up</th>\n      <th>review_date</th>\n      <th>developer_response</th>\n      <th>developer_response_date</th>\n      <th>appVersion</th>\n      <th>language_code</th>\n      <th>country_code</th>\n    </tr>\n  </thead>\n  <tbody>\n    <tr>\n      <th>0</th>\n      <td>Google Play</td>\n      <td>e3479dac-a89d-468d-8135-52730cb53069</td>\n      <td>Jr Shr</td>\n      <td>None</td>\n      <td>Parah...mahal..mending pakai dana</td>\n      <td>1</td>\n      <td>0</td>\n      <td>2023-10-03 22:13:06</td>\n      <td>None</td>\n      <td>NaT</td>\n      <td>None</td>\n      <td>id</td>\n      <td>id</td>\n    </tr>\n    <tr>\n      <th>1</th>\n      <td>Google Play</td>\n      <td>81ec20d7-690e-45d8-bce0-72019e699388</td>\n      <td>Oky Simatupang</td>\n      <td>None</td>\n      <td>Sudah lancar transaksinya. Makasih AlloBank.</td>\n      <td>5</td>\n      <td>0</td>\n      <td>2023-10-03 22:08:53</td>\n      <td>None</td>\n      <td>NaT</td>\n      <td>1.3.9.35</td>\n      <td>id</td>\n      <td>id</td>\n    </tr>\n    <tr>\n      <th>2</th>\n      <td>Google Play</td>\n      <td>8016e000-774f-4f16-a48b-36e043510f58</td>\n      <td>Darmili Anto</td>\n      <td>None</td>\n      <td>Allo bank biawak ini. Maudaftar, setelah mengi...</td>\n      <td>1</td>\n      <td>0</td>\n      <td>2023-10-03 22:07:44</td>\n      <td>None</td>\n      <td>NaT</td>\n      <td>1.3.9.35</td>\n      <td>id</td>\n      <td>id</td>\n    </tr>\n    <tr>\n      <th>3</th>\n      <td>Google Play</td>\n      <td>4d83d245-cce6-429c-b700-9d13472f728d</td>\n      <td>Sanwy Gaming</td>\n      <td>None</td>\n      <td>Aplikasi ampas dari awal aplikasi ini ada samp...</td>\n      <td>1</td>\n      <td>0</td>\n      <td>2023-10-03 21:28:53</td>\n      <td>None</td>\n      <td>NaT</td>\n      <td>1.3.9.35</td>\n      <td>id</td>\n      <td>id</td>\n    </tr>\n    <tr>\n      <th>4</th>\n      <td>Google Play</td>\n      <td>344210e1-f47c-4dc6-8a07-85d3e970b9c0</td>\n      <td>Anita Nita</td>\n      <td>None</td>\n      <td>beli plsa lampu tpi gak ada no token nya ,, tp...</td>\n      <td>1</td>\n      <td>0</td>\n      <td>2023-10-03 18:05:43</td>\n      <td>None</td>\n      <td>NaT</td>\n      <td>1.3.9.35</td>\n      <td>id</td>\n      <td>id</td>\n    </tr>\n    <tr>\n      <th>...</th>\n      <td>...</td>\n      <td>...</td>\n      <td>...</td>\n      <td>...</td>\n      <td>...</td>\n      <td>...</td>\n      <td>...</td>\n      <td>...</td>\n      <td>...</td>\n      <td>...</td>\n      <td>...</td>\n      <td>...</td>\n      <td>...</td>\n    </tr>\n    <tr>\n      <th>14475</th>\n      <td>Google Play</td>\n      <td>7d793cd6-2443-4657-a6bb-c003598277d1</td>\n      <td>Hilman Kusmawan</td>\n      <td>None</td>\n      <td>Aplikasi nya sangat simple penggunaan nya dan ...</td>\n      <td>5</td>\n      <td>37</td>\n      <td>2022-03-18 08:05:54</td>\n      <td>Hai Sahabat Allo, Terima kasih sudah menggunak...</td>\n      <td>2022-04-06 13:44:49</td>\n      <td>1.3.6.21</td>\n      <td>id</td>\n      <td>id</td>\n    </tr>\n    <tr>\n      <th>14476</th>\n      <td>Google Play</td>\n      <td>462927be-fa65-4f4d-bcde-d8565764ad24</td>\n      <td>Baiq Dinara</td>\n      <td>None</td>\n      <td>Akun dibekukan tanpa alasan, daftarin keluarga...</td>\n      <td>1</td>\n      <td>9</td>\n      <td>2022-03-18 08:02:20</td>\n      <td>Hai Sahabat Allo, mohon maaf atas kendala yang...</td>\n      <td>2022-04-06 11:27:01</td>\n      <td>1.3.6.21</td>\n      <td>id</td>\n      <td>id</td>\n    </tr>\n    <tr>\n      <th>14477</th>\n      <td>Google Play</td>\n      <td>1753ecb1-1e1b-4f7d-91ef-4a04bf7e8fec</td>\n      <td>Clara Quinzia Asheeqa</td>\n      <td>None</td>\n      <td>Aplikasi gagal daptar dari belum ada di playst...</td>\n      <td>1</td>\n      <td>8</td>\n      <td>2022-03-18 06:57:11</td>\n      <td>Hai Sahabat Allo, mohon maaf atas kendala yang...</td>\n      <td>2022-04-20 10:49:43</td>\n      <td>1.3.6.21</td>\n      <td>id</td>\n      <td>id</td>\n    </tr>\n    <tr>\n      <th>14478</th>\n      <td>Google Play</td>\n      <td>d79bb045-d116-4242-9932-a6baf9fbdf72</td>\n      <td>Agam Tea</td>\n      <td>None</td>\n      <td>masih belum bisa log in juga hadeuh... hampir ...</td>\n      <td>1</td>\n      <td>14</td>\n      <td>2022-03-18 06:33:37</td>\n      <td>Hai Sahabat Allo, mohon maaf atas kendala yang...</td>\n      <td>2022-04-06 11:04:58</td>\n      <td>1.3.6.21</td>\n      <td>id</td>\n      <td>id</td>\n    </tr>\n    <tr>\n      <th>14479</th>\n      <td>Google Play</td>\n      <td>c661febd-2880-4b72-87e5-5ae99d6b9d22</td>\n      <td>Bandilah Salmiyatun</td>\n      <td>None</td>\n      <td>Udah daftar malah ngga bisa dibuka</td>\n      <td>1</td>\n      <td>6</td>\n      <td>2022-03-18 06:07:35</td>\n      <td>Hai Sahabat Allo, mohon maaf atas kendala yang...</td>\n      <td>2022-04-06 11:45:51</td>\n      <td>1.3.6.21</td>\n      <td>id</td>\n      <td>id</td>\n    </tr>\n  </tbody>\n</table>\n<p>14480 rows × 13 columns</p>\n</div>"
                    },
                    "metadata": {},
                    "execution_count": 4,
                    "output_type": "execute_result"
                }
            ],
            "execution_count": 4
        },
        {
            "cell_type": "code",
            "source": [
                "a_df = pd.DataFrame(np.array(a_reviews.reviews),columns=['review'])\r\n",
                "a_df2 = a_df.join(pd.DataFrame(a_df.pop('review').tolist()))\r\n",
                "\r\n",
                "a_df2.drop(columns={'isEdited'},inplace = True)\r\n",
                "a_df2.insert(loc=0, column='source', value='App Store')\r\n",
                "a_df2['developer_response_date'] = None\r\n",
                "a_df2['thumbs_up'] = None\r\n",
                "a_df2['laguage_code'] = 'id'\r\n",
                "a_df2['country_code'] = 'id'\r\n",
                "a_df2.insert(loc=1, column='review_id', value=[uuid.uuid4() for _ in range(len(a_df2.index))]) \r\n",
                "a_df2.rename(columns= {'review': 'review_description','userName': 'user_name', 'date': 'review_date','title': 'review_title', 'developerResponse': 'developer_response'},inplace = True)\r\n",
                "a_df2 = a_df2.where(pd.notnull(a_df2), None)\r\n",
                "a_df2"
            ],
            "metadata": {
                "language": "python",
                "azdata_cell_guid": "15aeee77-c944-4a10-8535-18bf8717229a"
            },
            "outputs": [
                {
                    "data": {
                        "text/plain": "        source                             review_id         review_date  \\\n0    App Store  fcc04361-9b12-4070-ad93-aa306d8fc69f 2022-08-30 08:47:10   \n1    App Store  f1273268-d50d-4ecd-8436-d63892c59674 2023-10-02 06:14:53   \n2    App Store  97c90e52-c801-4498-a50e-2b2b07e72d60 2022-11-21 08:30:21   \n3    App Store  408801e9-ba03-4032-bbb5-46739e05fbba 2023-09-19 15:39:00   \n4    App Store  77360bca-ceab-4797-83aa-4c1ccc2bfcd0 2022-12-09 14:48:32   \n..         ...                                   ...                 ...   \n932  App Store  8a5cfdc4-748b-45f8-b6e7-4d69c62434ee 2022-05-17 05:02:47   \n933  App Store  cfaaa44e-061e-4512-bb72-1e8b06539148 2022-05-17 03:38:56   \n934  App Store  a9d08ede-a7e1-44ff-af4f-460fe95a4543 2022-05-17 03:24:10   \n935  App Store  3d5b0cc5-88e5-42d6-bda5-b8cb2582f0de 2022-05-17 03:19:48   \n936  App Store  05adbb5d-6c6c-48b4-8cea-2a860a0bac17 2022-05-17 03:12:20   \n\n                                    developer_response  \\\n0    {'id': 31775716, 'body': 'Hai Sahabat Allo, Te...   \n1                                                 None   \n2    {'id': 33319785, 'body': 'Hai Sahabat Allo, mo...   \n3                                                 None   \n4    {'id': 33799368, 'body': 'Hai Sahabat Allo, mo...   \n..                                                 ...   \n932  {'id': 30405443, 'body': 'Mohon maaf atas keti...   \n933  {'id': 30405622, 'body': 'Mohon maaf atas keti...   \n934  {'id': 30405629, 'body': 'Mohon maaf atas keti...   \n935  {'id': 30405638, 'body': 'Mohon maaf atas keti...   \n936  {'id': 30405648, 'body': 'Mohon maaf atas keti...   \n\n                                    review_description  rating  \\\n0    Mayan bagus sih tapi akan lebih bagus lagi kal...       4   \n1    Kenapa sering sekali network error ya Allo? Ka...       3   \n2    Mendadak force closed di iOS12 iPhone 6.\\nSuda...       1   \n3    Kenapa pas mau bayar harus ada verifikasi muka...       2   \n4    Trans mengadakan rekrutmen/interview kerja han...       1   \n..                                                 ...     ...   \n932                                        JELEK BGTTT       1   \n933  GIMANE SIH PAS LOGIN GABISA TRUS FACE ID GABIS...       1   \n934           JELEKK BANGETTTT GAJELASSS GAJELASSSSSSS       1   \n935  GAJELAS SISTEMNYA, MAU DIPAKE JUGA KE LOG OUT ...       1   \n936                                 JELEK BANGET ANJIR       1   \n\n                       user_name              review_title  \\\n0    susischoaqhalizlwoqbsosxbid               Mayan bagus   \n1                    Carmelkrits             Network Error   \n2                       roeseddy  Crash di iPhone 6 iOS 12   \n3                           z 08      Login dan verifikasi   \n4                   bgktqksdgjuf                  ini scam   \n..                           ...                       ...   \n932                haechansayang                      hehe   \n933                 Rizqy Nadhif                     ERROR   \n934             ahsyvfags bsuaua                     Jelek   \n935               jameeesssssssd        FIX YOUR SYSTEM!!!   \n936               yaelahjelekbgt                      ANEH   \n\n    developer_response_date thumbs_up laguage_code country_code  \n0                      None      None           id           id  \n1                      None      None           id           id  \n2                      None      None           id           id  \n3                      None      None           id           id  \n4                      None      None           id           id  \n..                      ...       ...          ...          ...  \n932                    None      None           id           id  \n933                    None      None           id           id  \n934                    None      None           id           id  \n935                    None      None           id           id  \n936                    None      None           id           id  \n\n[937 rows x 12 columns]",
                        "text/html": "<div>\n<style scoped>\n    .dataframe tbody tr th:only-of-type {\n        vertical-align: middle;\n    }\n\n    .dataframe tbody tr th {\n        vertical-align: top;\n    }\n\n    .dataframe thead th {\n        text-align: right;\n    }\n</style>\n<table border=\"1\" class=\"dataframe\">\n  <thead>\n    <tr style=\"text-align: right;\">\n      <th></th>\n      <th>source</th>\n      <th>review_id</th>\n      <th>review_date</th>\n      <th>developer_response</th>\n      <th>review_description</th>\n      <th>rating</th>\n      <th>user_name</th>\n      <th>review_title</th>\n      <th>developer_response_date</th>\n      <th>thumbs_up</th>\n      <th>laguage_code</th>\n      <th>country_code</th>\n    </tr>\n  </thead>\n  <tbody>\n    <tr>\n      <th>0</th>\n      <td>App Store</td>\n      <td>fcc04361-9b12-4070-ad93-aa306d8fc69f</td>\n      <td>2022-08-30 08:47:10</td>\n      <td>{'id': 31775716, 'body': 'Hai Sahabat Allo, Te...</td>\n      <td>Mayan bagus sih tapi akan lebih bagus lagi kal...</td>\n      <td>4</td>\n      <td>susischoaqhalizlwoqbsosxbid</td>\n      <td>Mayan bagus</td>\n      <td>None</td>\n      <td>None</td>\n      <td>id</td>\n      <td>id</td>\n    </tr>\n    <tr>\n      <th>1</th>\n      <td>App Store</td>\n      <td>f1273268-d50d-4ecd-8436-d63892c59674</td>\n      <td>2023-10-02 06:14:53</td>\n      <td>None</td>\n      <td>Kenapa sering sekali network error ya Allo? Ka...</td>\n      <td>3</td>\n      <td>Carmelkrits</td>\n      <td>Network Error</td>\n      <td>None</td>\n      <td>None</td>\n      <td>id</td>\n      <td>id</td>\n    </tr>\n    <tr>\n      <th>2</th>\n      <td>App Store</td>\n      <td>97c90e52-c801-4498-a50e-2b2b07e72d60</td>\n      <td>2022-11-21 08:30:21</td>\n      <td>{'id': 33319785, 'body': 'Hai Sahabat Allo, mo...</td>\n      <td>Mendadak force closed di iOS12 iPhone 6.\\nSuda...</td>\n      <td>1</td>\n      <td>roeseddy</td>\n      <td>Crash di iPhone 6 iOS 12</td>\n      <td>None</td>\n      <td>None</td>\n      <td>id</td>\n      <td>id</td>\n    </tr>\n    <tr>\n      <th>3</th>\n      <td>App Store</td>\n      <td>408801e9-ba03-4032-bbb5-46739e05fbba</td>\n      <td>2023-09-19 15:39:00</td>\n      <td>None</td>\n      <td>Kenapa pas mau bayar harus ada verifikasi muka...</td>\n      <td>2</td>\n      <td>z 08</td>\n      <td>Login dan verifikasi</td>\n      <td>None</td>\n      <td>None</td>\n      <td>id</td>\n      <td>id</td>\n    </tr>\n    <tr>\n      <th>4</th>\n      <td>App Store</td>\n      <td>77360bca-ceab-4797-83aa-4c1ccc2bfcd0</td>\n      <td>2022-12-09 14:48:32</td>\n      <td>{'id': 33799368, 'body': 'Hai Sahabat Allo, mo...</td>\n      <td>Trans mengadakan rekrutmen/interview kerja han...</td>\n      <td>1</td>\n      <td>bgktqksdgjuf</td>\n      <td>ini scam</td>\n      <td>None</td>\n      <td>None</td>\n      <td>id</td>\n      <td>id</td>\n    </tr>\n    <tr>\n      <th>...</th>\n      <td>...</td>\n      <td>...</td>\n      <td>...</td>\n      <td>...</td>\n      <td>...</td>\n      <td>...</td>\n      <td>...</td>\n      <td>...</td>\n      <td>...</td>\n      <td>...</td>\n      <td>...</td>\n      <td>...</td>\n    </tr>\n    <tr>\n      <th>932</th>\n      <td>App Store</td>\n      <td>8a5cfdc4-748b-45f8-b6e7-4d69c62434ee</td>\n      <td>2022-05-17 05:02:47</td>\n      <td>{'id': 30405443, 'body': 'Mohon maaf atas keti...</td>\n      <td>JELEK BGTTT</td>\n      <td>1</td>\n      <td>haechansayang</td>\n      <td>hehe</td>\n      <td>None</td>\n      <td>None</td>\n      <td>id</td>\n      <td>id</td>\n    </tr>\n    <tr>\n      <th>933</th>\n      <td>App Store</td>\n      <td>cfaaa44e-061e-4512-bb72-1e8b06539148</td>\n      <td>2022-05-17 03:38:56</td>\n      <td>{'id': 30405622, 'body': 'Mohon maaf atas keti...</td>\n      <td>GIMANE SIH PAS LOGIN GABISA TRUS FACE ID GABIS...</td>\n      <td>1</td>\n      <td>Rizqy Nadhif</td>\n      <td>ERROR</td>\n      <td>None</td>\n      <td>None</td>\n      <td>id</td>\n      <td>id</td>\n    </tr>\n    <tr>\n      <th>934</th>\n      <td>App Store</td>\n      <td>a9d08ede-a7e1-44ff-af4f-460fe95a4543</td>\n      <td>2022-05-17 03:24:10</td>\n      <td>{'id': 30405629, 'body': 'Mohon maaf atas keti...</td>\n      <td>JELEKK BANGETTTT GAJELASSS GAJELASSSSSSS</td>\n      <td>1</td>\n      <td>ahsyvfags bsuaua</td>\n      <td>Jelek</td>\n      <td>None</td>\n      <td>None</td>\n      <td>id</td>\n      <td>id</td>\n    </tr>\n    <tr>\n      <th>935</th>\n      <td>App Store</td>\n      <td>3d5b0cc5-88e5-42d6-bda5-b8cb2582f0de</td>\n      <td>2022-05-17 03:19:48</td>\n      <td>{'id': 30405638, 'body': 'Mohon maaf atas keti...</td>\n      <td>GAJELAS SISTEMNYA, MAU DIPAKE JUGA KE LOG OUT ...</td>\n      <td>1</td>\n      <td>jameeesssssssd</td>\n      <td>FIX YOUR SYSTEM!!!</td>\n      <td>None</td>\n      <td>None</td>\n      <td>id</td>\n      <td>id</td>\n    </tr>\n    <tr>\n      <th>936</th>\n      <td>App Store</td>\n      <td>05adbb5d-6c6c-48b4-8cea-2a860a0bac17</td>\n      <td>2022-05-17 03:12:20</td>\n      <td>{'id': 30405648, 'body': 'Mohon maaf atas keti...</td>\n      <td>JELEK BANGET ANJIR</td>\n      <td>1</td>\n      <td>yaelahjelekbgt</td>\n      <td>ANEH</td>\n      <td>None</td>\n      <td>None</td>\n      <td>id</td>\n      <td>id</td>\n    </tr>\n  </tbody>\n</table>\n<p>937 rows × 12 columns</p>\n</div>"
                    },
                    "metadata": {},
                    "execution_count": 5,
                    "output_type": "execute_result"
                }
            ],
            "execution_count": 5
        },
        {
            "cell_type": "code",
            "source": [
                "result = pd.concat([g_df2,a_df2])\r\n",
                "result"
            ],
            "metadata": {
                "language": "python",
                "azdata_cell_guid": "54c49b7e-53d4-4a7c-9765-53c54becf2a1"
            },
            "outputs": [
                {
                    "data": {
                        "text/plain": "          source                             review_id         user_name  \\\n0    Google Play  e3479dac-a89d-468d-8135-52730cb53069            Jr Shr   \n1    Google Play  81ec20d7-690e-45d8-bce0-72019e699388    Oky Simatupang   \n2    Google Play  8016e000-774f-4f16-a48b-36e043510f58      Darmili Anto   \n3    Google Play  4d83d245-cce6-429c-b700-9d13472f728d      Sanwy Gaming   \n4    Google Play  344210e1-f47c-4dc6-8a07-85d3e970b9c0        Anita Nita   \n..           ...                                   ...               ...   \n932    App Store  8a5cfdc4-748b-45f8-b6e7-4d69c62434ee     haechansayang   \n933    App Store  cfaaa44e-061e-4512-bb72-1e8b06539148      Rizqy Nadhif   \n934    App Store  a9d08ede-a7e1-44ff-af4f-460fe95a4543  ahsyvfags bsuaua   \n935    App Store  3d5b0cc5-88e5-42d6-bda5-b8cb2582f0de    jameeesssssssd   \n936    App Store  05adbb5d-6c6c-48b4-8cea-2a860a0bac17    yaelahjelekbgt   \n\n           review_title                                 review_description  \\\n0                  None                  Parah...mahal..mending pakai dana   \n1                  None       Sudah lancar transaksinya. Makasih AlloBank.   \n2                  None  Allo bank biawak ini. Maudaftar, setelah mengi...   \n3                  None  Aplikasi ampas dari awal aplikasi ini ada samp...   \n4                  None  beli plsa lampu tpi gak ada no token nya ,, tp...   \n..                  ...                                                ...   \n932                hehe                                        JELEK BGTTT   \n933               ERROR  GIMANE SIH PAS LOGIN GABISA TRUS FACE ID GABIS...   \n934               Jelek           JELEKK BANGETTTT GAJELASSS GAJELASSSSSSS   \n935  FIX YOUR SYSTEM!!!  GAJELAS SISTEMNYA, MAU DIPAKE JUGA KE LOG OUT ...   \n936                ANEH                                 JELEK BANGET ANJIR   \n\n     rating thumbs_up         review_date  \\\n0         1         0 2023-10-03 22:13:06   \n1         5         0 2023-10-03 22:08:53   \n2         1         0 2023-10-03 22:07:44   \n3         1         0 2023-10-03 21:28:53   \n4         1         0 2023-10-03 18:05:43   \n..      ...       ...                 ...   \n932       1      None 2022-05-17 05:02:47   \n933       1      None 2022-05-17 03:38:56   \n934       1      None 2022-05-17 03:24:10   \n935       1      None 2022-05-17 03:19:48   \n936       1      None 2022-05-17 03:12:20   \n\n                                    developer_response  \\\n0                                                 None   \n1                                                 None   \n2                                                 None   \n3                                                 None   \n4                                                 None   \n..                                                 ...   \n932  {'id': 30405443, 'body': 'Mohon maaf atas keti...   \n933  {'id': 30405622, 'body': 'Mohon maaf atas keti...   \n934  {'id': 30405629, 'body': 'Mohon maaf atas keti...   \n935  {'id': 30405638, 'body': 'Mohon maaf atas keti...   \n936  {'id': 30405648, 'body': 'Mohon maaf atas keti...   \n\n    developer_response_date appVersion language_code country_code laguage_code  \n0                       NaT       None            id           id          NaN  \n1                       NaT   1.3.9.35            id           id          NaN  \n2                       NaT   1.3.9.35            id           id          NaN  \n3                       NaT   1.3.9.35            id           id          NaN  \n4                       NaT   1.3.9.35            id           id          NaN  \n..                      ...        ...           ...          ...          ...  \n932                     NaT        NaN           NaN           id           id  \n933                     NaT        NaN           NaN           id           id  \n934                     NaT        NaN           NaN           id           id  \n935                     NaT        NaN           NaN           id           id  \n936                     NaT        NaN           NaN           id           id  \n\n[15417 rows x 14 columns]",
                        "text/html": "<div>\n<style scoped>\n    .dataframe tbody tr th:only-of-type {\n        vertical-align: middle;\n    }\n\n    .dataframe tbody tr th {\n        vertical-align: top;\n    }\n\n    .dataframe thead th {\n        text-align: right;\n    }\n</style>\n<table border=\"1\" class=\"dataframe\">\n  <thead>\n    <tr style=\"text-align: right;\">\n      <th></th>\n      <th>source</th>\n      <th>review_id</th>\n      <th>user_name</th>\n      <th>review_title</th>\n      <th>review_description</th>\n      <th>rating</th>\n      <th>thumbs_up</th>\n      <th>review_date</th>\n      <th>developer_response</th>\n      <th>developer_response_date</th>\n      <th>appVersion</th>\n      <th>language_code</th>\n      <th>country_code</th>\n      <th>laguage_code</th>\n    </tr>\n  </thead>\n  <tbody>\n    <tr>\n      <th>0</th>\n      <td>Google Play</td>\n      <td>e3479dac-a89d-468d-8135-52730cb53069</td>\n      <td>Jr Shr</td>\n      <td>None</td>\n      <td>Parah...mahal..mending pakai dana</td>\n      <td>1</td>\n      <td>0</td>\n      <td>2023-10-03 22:13:06</td>\n      <td>None</td>\n      <td>NaT</td>\n      <td>None</td>\n      <td>id</td>\n      <td>id</td>\n      <td>NaN</td>\n    </tr>\n    <tr>\n      <th>1</th>\n      <td>Google Play</td>\n      <td>81ec20d7-690e-45d8-bce0-72019e699388</td>\n      <td>Oky Simatupang</td>\n      <td>None</td>\n      <td>Sudah lancar transaksinya. Makasih AlloBank.</td>\n      <td>5</td>\n      <td>0</td>\n      <td>2023-10-03 22:08:53</td>\n      <td>None</td>\n      <td>NaT</td>\n      <td>1.3.9.35</td>\n      <td>id</td>\n      <td>id</td>\n      <td>NaN</td>\n    </tr>\n    <tr>\n      <th>2</th>\n      <td>Google Play</td>\n      <td>8016e000-774f-4f16-a48b-36e043510f58</td>\n      <td>Darmili Anto</td>\n      <td>None</td>\n      <td>Allo bank biawak ini. Maudaftar, setelah mengi...</td>\n      <td>1</td>\n      <td>0</td>\n      <td>2023-10-03 22:07:44</td>\n      <td>None</td>\n      <td>NaT</td>\n      <td>1.3.9.35</td>\n      <td>id</td>\n      <td>id</td>\n      <td>NaN</td>\n    </tr>\n    <tr>\n      <th>3</th>\n      <td>Google Play</td>\n      <td>4d83d245-cce6-429c-b700-9d13472f728d</td>\n      <td>Sanwy Gaming</td>\n      <td>None</td>\n      <td>Aplikasi ampas dari awal aplikasi ini ada samp...</td>\n      <td>1</td>\n      <td>0</td>\n      <td>2023-10-03 21:28:53</td>\n      <td>None</td>\n      <td>NaT</td>\n      <td>1.3.9.35</td>\n      <td>id</td>\n      <td>id</td>\n      <td>NaN</td>\n    </tr>\n    <tr>\n      <th>4</th>\n      <td>Google Play</td>\n      <td>344210e1-f47c-4dc6-8a07-85d3e970b9c0</td>\n      <td>Anita Nita</td>\n      <td>None</td>\n      <td>beli plsa lampu tpi gak ada no token nya ,, tp...</td>\n      <td>1</td>\n      <td>0</td>\n      <td>2023-10-03 18:05:43</td>\n      <td>None</td>\n      <td>NaT</td>\n      <td>1.3.9.35</td>\n      <td>id</td>\n      <td>id</td>\n      <td>NaN</td>\n    </tr>\n    <tr>\n      <th>...</th>\n      <td>...</td>\n      <td>...</td>\n      <td>...</td>\n      <td>...</td>\n      <td>...</td>\n      <td>...</td>\n      <td>...</td>\n      <td>...</td>\n      <td>...</td>\n      <td>...</td>\n      <td>...</td>\n      <td>...</td>\n      <td>...</td>\n      <td>...</td>\n    </tr>\n    <tr>\n      <th>932</th>\n      <td>App Store</td>\n      <td>8a5cfdc4-748b-45f8-b6e7-4d69c62434ee</td>\n      <td>haechansayang</td>\n      <td>hehe</td>\n      <td>JELEK BGTTT</td>\n      <td>1</td>\n      <td>None</td>\n      <td>2022-05-17 05:02:47</td>\n      <td>{'id': 30405443, 'body': 'Mohon maaf atas keti...</td>\n      <td>NaT</td>\n      <td>NaN</td>\n      <td>NaN</td>\n      <td>id</td>\n      <td>id</td>\n    </tr>\n    <tr>\n      <th>933</th>\n      <td>App Store</td>\n      <td>cfaaa44e-061e-4512-bb72-1e8b06539148</td>\n      <td>Rizqy Nadhif</td>\n      <td>ERROR</td>\n      <td>GIMANE SIH PAS LOGIN GABISA TRUS FACE ID GABIS...</td>\n      <td>1</td>\n      <td>None</td>\n      <td>2022-05-17 03:38:56</td>\n      <td>{'id': 30405622, 'body': 'Mohon maaf atas keti...</td>\n      <td>NaT</td>\n      <td>NaN</td>\n      <td>NaN</td>\n      <td>id</td>\n      <td>id</td>\n    </tr>\n    <tr>\n      <th>934</th>\n      <td>App Store</td>\n      <td>a9d08ede-a7e1-44ff-af4f-460fe95a4543</td>\n      <td>ahsyvfags bsuaua</td>\n      <td>Jelek</td>\n      <td>JELEKK BANGETTTT GAJELASSS GAJELASSSSSSS</td>\n      <td>1</td>\n      <td>None</td>\n      <td>2022-05-17 03:24:10</td>\n      <td>{'id': 30405629, 'body': 'Mohon maaf atas keti...</td>\n      <td>NaT</td>\n      <td>NaN</td>\n      <td>NaN</td>\n      <td>id</td>\n      <td>id</td>\n    </tr>\n    <tr>\n      <th>935</th>\n      <td>App Store</td>\n      <td>3d5b0cc5-88e5-42d6-bda5-b8cb2582f0de</td>\n      <td>jameeesssssssd</td>\n      <td>FIX YOUR SYSTEM!!!</td>\n      <td>GAJELAS SISTEMNYA, MAU DIPAKE JUGA KE LOG OUT ...</td>\n      <td>1</td>\n      <td>None</td>\n      <td>2022-05-17 03:19:48</td>\n      <td>{'id': 30405638, 'body': 'Mohon maaf atas keti...</td>\n      <td>NaT</td>\n      <td>NaN</td>\n      <td>NaN</td>\n      <td>id</td>\n      <td>id</td>\n    </tr>\n    <tr>\n      <th>936</th>\n      <td>App Store</td>\n      <td>05adbb5d-6c6c-48b4-8cea-2a860a0bac17</td>\n      <td>yaelahjelekbgt</td>\n      <td>ANEH</td>\n      <td>JELEK BANGET ANJIR</td>\n      <td>1</td>\n      <td>None</td>\n      <td>2022-05-17 03:12:20</td>\n      <td>{'id': 30405648, 'body': 'Mohon maaf atas keti...</td>\n      <td>NaT</td>\n      <td>NaN</td>\n      <td>NaN</td>\n      <td>id</td>\n      <td>id</td>\n    </tr>\n  </tbody>\n</table>\n<p>15417 rows × 14 columns</p>\n</div>"
                    },
                    "metadata": {},
                    "execution_count": 6,
                    "output_type": "execute_result"
                }
            ],
            "execution_count": 6
        },
        {
            "cell_type": "code",
            "source": [
                "review_allobank_df = pd.DataFrame(result)\r\n",
                "review_allobank_df.to_csv('review_allobank_1.csv', index=None, header=True)"
            ],
            "metadata": {
                "language": "python",
                "azdata_cell_guid": "b419a895-6cf0-480a-bab1-a2739119c021"
            },
            "outputs": [],
            "execution_count": 7
        }
    ]
}